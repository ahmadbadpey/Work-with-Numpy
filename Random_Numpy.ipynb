{
 "cells": [
  {
   "cell_type": "markdown",
   "id": "f42951c1",
   "metadata": {},
   "source": [
    "# Random Numbers in NumPy"
   ]
  },
  {
   "cell_type": "code",
   "execution_count": 22,
   "id": "4652772d",
   "metadata": {},
   "outputs": [
    {
     "name": "stdout",
     "output_type": "stream",
     "text": [
      "143\n"
     ]
    }
   ],
   "source": [
    "from numpy import random\n",
    "import numpy as np\n",
    "\n",
    "#Generate a random integer from 0 to 100:\n",
    "x=random.randint(150)\n",
    "\n",
    "print(x)"
   ]
  },
  {
   "cell_type": "code",
   "execution_count": 6,
   "id": "67709f45",
   "metadata": {},
   "outputs": [
    {
     "name": "stdout",
     "output_type": "stream",
     "text": [
      "0.9418314798157784\n"
     ]
    }
   ],
   "source": [
    "#Generate a random float from 0 to 1:\n",
    "x = random.rand()\n",
    "\n",
    "print(x)"
   ]
  },
  {
   "cell_type": "markdown",
   "id": "b93fadcb",
   "metadata": {},
   "source": [
    "## Random Array"
   ]
  },
  {
   "cell_type": "code",
   "execution_count": 12,
   "id": "3d0bb753",
   "metadata": {
    "scrolled": true
   },
   "outputs": [
    {
     "name": "stdout",
     "output_type": "stream",
     "text": [
      "[18 18 50 11 37]\n"
     ]
    }
   ],
   "source": [
    "x=random.randint(100, size=5)\n",
    "\n",
    "print(x)"
   ]
  },
  {
   "cell_type": "markdown",
   "id": "97a8e685",
   "metadata": {},
   "source": [
    "Generate a 2-D array with 3 rows, each row containing 5 random integers from 0 to 100:"
   ]
  },
  {
   "cell_type": "code",
   "execution_count": 11,
   "id": "237939e2",
   "metadata": {
    "scrolled": true
   },
   "outputs": [
    {
     "name": "stdout",
     "output_type": "stream",
     "text": [
      "[[33 22 86 64 67]\n",
      " [64 42  2 59 20]\n",
      " [ 9 28 39 25 25]]\n"
     ]
    }
   ],
   "source": [
    "x = random.randint(100, size=(3, 5))\n",
    "\n",
    "print(x)\n"
   ]
  },
  {
   "cell_type": "markdown",
   "id": "9d8d50d9",
   "metadata": {},
   "source": [
    "The rand() method also allows you to specify the shape of the array."
   ]
  },
  {
   "cell_type": "code",
   "execution_count": 13,
   "id": "6364a19b",
   "metadata": {},
   "outputs": [
    {
     "name": "stdout",
     "output_type": "stream",
     "text": [
      "[0.92501685 0.11097263 0.93329325 0.2769391  0.3846503 ]\n"
     ]
    }
   ],
   "source": [
    "x = random.rand(5)\n",
    "\n",
    "print(x)\n"
   ]
  },
  {
   "cell_type": "code",
   "execution_count": 15,
   "id": "7c4516aa",
   "metadata": {
    "scrolled": true
   },
   "outputs": [
    {
     "name": "stdout",
     "output_type": "stream",
     "text": [
      "[[0.58775951 0.72850819 0.01873278 0.84464297 0.98259167]\n",
      " [0.32558997 0.86465354 0.26309737 0.41802567 0.51774636]\n",
      " [0.30486859 0.02756544 0.8560898  0.78494847 0.39375327]]\n"
     ]
    }
   ],
   "source": [
    "x = random.rand(3, 5)\n",
    "\n",
    "print(x)"
   ]
  },
  {
   "cell_type": "markdown",
   "id": "1a67647c",
   "metadata": {},
   "source": [
    "## Generate Random Number From Array\n"
   ]
  },
  {
   "cell_type": "markdown",
   "id": "5e379181",
   "metadata": {},
   "source": [
    "The choice() method allows you to generate a random value based on an array of values.\n",
    "\n",
    "The choice() method takes an array as a parameter and randomly returns one of the values.\n",
    "\n"
   ]
  },
  {
   "cell_type": "code",
   "execution_count": 17,
   "id": "e5a63548",
   "metadata": {
    "scrolled": true
   },
   "outputs": [
    {
     "name": "stdout",
     "output_type": "stream",
     "text": [
      "5\n"
     ]
    }
   ],
   "source": [
    "x = random.choice([3, 5, 7, 9])\n",
    "\n",
    "print(x)"
   ]
  },
  {
   "cell_type": "markdown",
   "id": "a9268ce1",
   "metadata": {},
   "source": [
    "The choice() method also allows you to return an array of values.\n",
    "\n",
    "Add a size parameter to specify the shape of the array."
   ]
  },
  {
   "cell_type": "code",
   "execution_count": 18,
   "id": "f0c7ed31",
   "metadata": {
    "scrolled": true
   },
   "outputs": [
    {
     "name": "stdout",
     "output_type": "stream",
     "text": [
      "[[7 5 3 5 7]\n",
      " [3 5 5 3 5]\n",
      " [3 3 3 3 3]]\n"
     ]
    }
   ],
   "source": [
    "x = random.choice([3, 5, 7, 9], size=(3, 5))\n",
    "\n",
    "print(x)"
   ]
  },
  {
   "cell_type": "markdown",
   "id": "901a8d76",
   "metadata": {},
   "source": [
    "# Random Data Distribution\n"
   ]
  },
  {
   "cell_type": "markdown",
   "id": "8a10f4ec",
   "metadata": {},
   "source": [
    "Data Distribution is a list of all possible values, and how often each value occurs.\n",
    "\n",
    "The choice() method allows us to specify the probability for each value.\n",
    "\n",
    "The probability is set by a number between 0 and 1, where 0 means that the value will never occur and 1 means that the value will always occur."
   ]
  },
  {
   "cell_type": "code",
   "execution_count": 20,
   "id": "eb2545bf",
   "metadata": {
    "scrolled": true
   },
   "outputs": [
    {
     "name": "stdout",
     "output_type": "stream",
     "text": [
      "[7 7 7 7 7 7 5 7 7 5 5 7 5 7 5 7 7 7 5 7 7 5 7 7 7 7 7 7 7 7 7 7 7 5 7 5 7\n",
      " 7 3 5 7 7 5 5 5 5 5 7 3 5 5 5 5 7 5 5 5 5 7 3 7 7 7 7 7 5 5 7 7 7 5 5 7 7\n",
      " 7 5 7 7 7 5 5 5 7 7 3 5 7 7 5 7 5 7 7 5 3 7 3 7 5 7]\n"
     ]
    }
   ],
   "source": [
    "x = random.choice([3, 5, 7, 9], p=[0.1, 0.3, 0.6, 0.0], size=(100))\n",
    "\n",
    "print(x)"
   ]
  },
  {
   "cell_type": "code",
   "execution_count": 21,
   "id": "f9894ad0",
   "metadata": {
    "scrolled": true
   },
   "outputs": [
    {
     "name": "stdout",
     "output_type": "stream",
     "text": [
      "[[7 7 7 5 7]\n",
      " [5 7 7 7 5]\n",
      " [5 5 7 5 7]]\n"
     ]
    }
   ],
   "source": [
    "x = random.choice([3, 5, 7, 9], p=[0.1, 0.3, 0.6, 0.0], size=(3, 5))\n",
    "\n",
    "print(x)"
   ]
  },
  {
   "cell_type": "markdown",
   "id": "af07e24e",
   "metadata": {},
   "source": [
    "# Random Permutations"
   ]
  },
  {
   "cell_type": "markdown",
   "id": "ee7a2fd1",
   "metadata": {},
   "source": [
    "A permutation refers to an arrangement of elements. e.g. [3, 2, 1] is a permutation of [1, 2, 3] and vice-versa."
   ]
  },
  {
   "cell_type": "markdown",
   "id": "72b97ae3",
   "metadata": {},
   "source": [
    "## Shuffling Arrays"
   ]
  },
  {
   "cell_type": "code",
   "execution_count": 28,
   "id": "15e6ddd1",
   "metadata": {
    "scrolled": true
   },
   "outputs": [
    {
     "name": "stdout",
     "output_type": "stream",
     "text": [
      "[4 5 3 1 2]\n"
     ]
    }
   ],
   "source": [
    "from numpy import random\n",
    "import numpy as np\n",
    "\n",
    "arr = np.array([1, 2, 3, 4, 5])\n",
    "\n",
    "random.shuffle(arr)\n",
    "\n",
    "print(arr)\n"
   ]
  },
  {
   "cell_type": "markdown",
   "id": "ea92959e",
   "metadata": {},
   "source": [
    "**The shuffle() method makes changes to the original array.**"
   ]
  },
  {
   "cell_type": "markdown",
   "id": "5d138886",
   "metadata": {},
   "source": [
    "## Generating Permutation of Arrays"
   ]
  },
  {
   "cell_type": "code",
   "execution_count": 29,
   "id": "4082d89e",
   "metadata": {
    "scrolled": true
   },
   "outputs": [
    {
     "name": "stdout",
     "output_type": "stream",
     "text": [
      "[4 3 1 2 5]\n"
     ]
    }
   ],
   "source": [
    "arr = np.array([1, 2, 3, 4, 5])\n",
    "\n",
    "print(random.permutation(arr))\n"
   ]
  },
  {
   "cell_type": "markdown",
   "id": "462ebb9e",
   "metadata": {},
   "source": [
    "**The permutation() method returns a re-arranged array (and leaves the original array un-changed).**"
   ]
  },
  {
   "cell_type": "markdown",
   "id": "73d42490",
   "metadata": {},
   "source": [
    "# Normal (Gaussian) Distribution\n",
    "\n",
    "Use the random.normal() method to get a Normal Data Distribution.\n",
    "\n",
    "It has three parameters:\n",
    "\n",
    "loc - (Mean) where the peak of the bell exists.\n",
    "\n",
    "scale - (Standard Deviation) how flat the graph distribution should be.\n",
    "\n",
    "size - The shape of the returned array.\n",
    "\n"
   ]
  },
  {
   "cell_type": "code",
   "execution_count": 31,
   "id": "23af771f",
   "metadata": {
    "scrolled": true
   },
   "outputs": [
    {
     "name": "stdout",
     "output_type": "stream",
     "text": [
      "[[-0.44292649 -1.27796373  0.92009082]\n",
      " [ 0.28015168 -0.0599926  -0.73918261]]\n"
     ]
    }
   ],
   "source": [
    "x = random.normal(size=(2, 3))\n",
    "\n",
    "print(x)\n"
   ]
  },
  {
   "cell_type": "markdown",
   "id": "5d11ce7e",
   "metadata": {},
   "source": [
    "Generate a random normal distribution of size 2x3 with mean at 1 and standard deviation of 2:\n",
    "    "
   ]
  },
  {
   "cell_type": "code",
   "execution_count": 33,
   "id": "b83982dd",
   "metadata": {},
   "outputs": [
    {
     "name": "stdout",
     "output_type": "stream",
     "text": [
      "[[-2.08505354  7.18145921  0.35397424]\n",
      " [-2.39110946  0.4751597   1.47375913]]\n"
     ]
    }
   ],
   "source": [
    "x = random.normal(loc=1, scale=2, size=(2, 3))\n",
    "\n",
    "print(x)\n"
   ]
  }
 ],
 "metadata": {
  "kernelspec": {
   "display_name": "Python 3 (ipykernel)",
   "language": "python",
   "name": "python3"
  },
  "language_info": {
   "codemirror_mode": {
    "name": "ipython",
    "version": 3
   },
   "file_extension": ".py",
   "mimetype": "text/x-python",
   "name": "python",
   "nbconvert_exporter": "python",
   "pygments_lexer": "ipython3",
   "version": "3.10.7"
  }
 },
 "nbformat": 4,
 "nbformat_minor": 5
}
